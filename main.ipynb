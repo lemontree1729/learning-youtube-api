{
 "cells": [
  {
   "cell_type": "code",
   "execution_count": null,
   "metadata": {},
   "outputs": [],
   "source": [
    "from youtubeAPI import get_youtube_api_json\n",
    "from pymongo import MongoClient # you should install dnspython also\n",
    "from utils import ProgressBar\n",
    "from youtubesearchpython import *\n",
    "from pprint import pprint\n",
    "\n",
    "with open(\"apikey.txt\", encoding=\"utf8\") as f:\n",
    "    apikey1 = f.readline().strip()\n",
    "    apikey2 = f.readline().strip()\n",
    "\n",
    "with open(\"mongodb.txt\") as f:\n",
    "    mongodb_uri = f.readline().strip()\n",
    "\n",
    "client = MongoClient(mongodb_uri)\n",
    "db = client[\"youtube\"]\n",
    "searchData = db[\"searchData\"]"
   ]
  },
  {
   "cell_type": "code",
   "execution_count": null,
   "metadata": {},
   "outputs": [],
   "source": [
    "videosSearch = VideosSearch(\"\")\n",
    "pprint(videosSearch.result())"
   ]
  },
  {
   "cell_type": "code",
   "execution_count": null,
   "metadata": {},
   "outputs": [],
   "source": [
    "suggestionData = db[\"suggestionData\"]\n",
    "suggestions = Suggestions(language=\"kr\", region=\"KR\")"
   ]
  },
  {
   "cell_type": "code",
   "execution_count": null,
   "metadata": {},
   "outputs": [],
   "source": [
    "import re\n",
    "\n",
    "hangul = re.compile(\"[^가-힣]+\")"
   ]
  },
  {
   "cell_type": "code",
   "execution_count": null,
   "metadata": {},
   "outputs": [],
   "source": [
    "total_data = set()\n",
    "# for i in range(44032, 55216):\n",
    "start, end = 54000, 55216\n",
    "error_count = 0\n",
    "bar = ProgressBar(end - start)\n",
    "for i in range(start, end):\n",
    "    bar.next()\n",
    "    total_data.add(chr(i))\n",
    "    try:\n",
    "        data = suggestions.get(chr(i), mode=ResultMode.dict)\n",
    "        for j in data[\"result\"]:\n",
    "            if len(hangul.findall(j)) == 0:\n",
    "                total_data.add(j)\n",
    "    except:\n",
    "        error_count += 1\n",
    "total_data = list(total_data)\n",
    "total_data.sort()\n",
    "print(error_count, total_data)"
   ]
  },
  {
   "cell_type": "code",
   "execution_count": null,
   "metadata": {},
   "outputs": [],
   "source": [
    "suggestionData.insert_one({\"result\": total_data})"
   ]
  },
  {
   "cell_type": "code",
   "execution_count": null,
   "metadata": {},
   "outputs": [],
   "source": [
    "all_data = list(suggestionData.find())\n",
    "finalSuggestionData = db[\"finalSuggestionData\"]\n",
    "total_search_data = set()\n",
    "for data in all_data:\n",
    "    for keyword in data[\"result\"]:\n",
    "        total_search_data.add(keyword)\n",
    "total_search_data = list(total_search_data)\n",
    "total_search_data.sort()\n",
    "print(len(total_search_data))"
   ]
  },
  {
   "cell_type": "code",
   "execution_count": null,
   "metadata": {},
   "outputs": [],
   "source": [
    "finalSuggestionData.drop()"
   ]
  },
  {
   "cell_type": "code",
   "execution_count": null,
   "metadata": {},
   "outputs": [],
   "source": [
    "divide = 50\n",
    "size = len(total_search_data) // divide + 1\n",
    "for i in range(divide):\n",
    "    finalSuggestionData.insert_one(\n",
    "        {\"id\": i, \"result\": total_search_data[size * i : min(size * (i + 1), len(total_search_data))]}\n",
    "    )"
   ]
  },
  {
   "cell_type": "code",
   "execution_count": null,
   "metadata": {},
   "outputs": [],
   "source": [
    "Video.get(\"MhQKe-aERsU\")"
   ]
  },
  {
   "cell_type": "code",
   "execution_count": null,
   "metadata": {},
   "outputs": [],
   "source": [
    "finalSuggestionData = db[\"finalSuggestionData\"]\n",
    "\n",
    "for data_num in range(37, 50):\n",
    "    # data_num = 8\n",
    "    total = finalSuggestionData.find_one({\"id\": data_num})[\"result\"]\n",
    "    id_collection = set()\n",
    "    bar = ProgressBar(len(total))\n",
    "    error_count = 0\n",
    "    for target in total:\n",
    "        bar.next()\n",
    "        customSearch = CustomSearch(target, \"CAMSAhAB\", language=\"kr\", region=\"KR\")\n",
    "        while True:\n",
    "            search_result = customSearch.result()[\"result\"]\n",
    "            if len(search_result) == 0:\n",
    "                break\n",
    "            for result in search_result:\n",
    "                try:\n",
    "                    viewCount = int(result[\"viewCount\"][\"text\"].split(\" views\")[0].replace(\",\", \"\"))\n",
    "                    if viewCount < 10**6:\n",
    "                        break\n",
    "                    id_collection.add(result[\"id\"])\n",
    "                except:\n",
    "                    continue\n",
    "            else:\n",
    "                customSearch.next()\n",
    "                continue\n",
    "            break\n",
    "    print(\"count:\",data_num, error_count, len(id_collection))\n",
    "    videoIdData = db[\"videoIdData\"]\n",
    "    videoIdData.insert_one({\"id\":data_num, \"result\": list(id_collection)})"
   ]
  },
  {
   "cell_type": "code",
   "execution_count": null,
   "metadata": {},
   "outputs": [],
   "source": [
    "print(list(id_collection))"
   ]
  },
  {
   "cell_type": "code",
   "execution_count": null,
   "metadata": {},
   "outputs": [],
   "source": [
    "duplicate_datas = list(videoIdData.find())\n",
    "remove_duplicate = set()\n",
    "for duplicate_data in duplicate_datas[\"result\"]:\n",
    "    for id in duplicate_data:\n",
    "        remove_duplicate.add(id)\n",
    "remove_duplicate = list(remove_duplicate)\n",
    "finalVideoIdData = db[\"finalVideoIdData\"]\n",
    "divide = 50\n",
    "size = len(remove_duplicate) // divide + 1\n",
    "for i in range(divide):\n",
    "    finalVideoIdData.insert_one(\n",
    "        {\"id\": i, \"result\": remove_duplicate[size * i : min(size * (i + 1), len(remove_duplicate))]}\n",
    "    )"
   ]
  },
  {
   "cell_type": "code",
   "execution_count": null,
   "metadata": {},
   "outputs": [],
   "source": [
    "global_query = {\"key\": apikey1, \"maxResults\": 100, \"regionCode\": \"KR\"}\n",
    "\n",
    "\n",
    "def get_video(query):\n",
    "    final_query = {\n",
    "        **global_query,\n",
    "        **query,\n",
    "        \"part\": \"snippet, contentDetails, status, statistics, player, topicDetails, recordingDetails\",\n",
    "    }\n",
    "    return get_youtube_api_json(\"videos\", final_query)"
   ]
  },
  {
   "cell_type": "code",
   "execution_count": null,
   "metadata": {},
   "outputs": [],
   "source": [
    "videoInfoData = db[\"videoInfoData\"]\n",
    "final_total_id = list(finalVideoIdData.find())\n",
    "for ids in final_total_id[\"result\"]:\n",
    "    count = 0\n",
    "    result = []\n",
    "    while len(ids) > 50 * count:\n",
    "        query = {\"id\": \",\".join(ids[50 * count : min(50 * (count + 1), len(ids))])}\n",
    "        result.extend(get_video(query).get(\"items\", []))\n",
    "        count += 1\n",
    "    videoInfoData.insert_one({\"result\": result})"
   ]
  },
  {
   "cell_type": "code",
   "execution_count": null,
   "metadata": {},
   "outputs": [],
   "source": [
    "# preprocessing\n",
    "import datetime\n",
    "import time\n",
    "\n",
    "def strftime(datetime: datetime.datetime):\n",
    "    return datetime.strftime(\"%Y-%m-%dT%H:%M:%SZ\")\n",
    "\n",
    "# 1970-01-01T00:00:00Z\n",
    "def strptime(str):\n",
    "    return datetime.datetime().strptime(str, \"%Y-%m-%dT%H:%M:%SZ\")\n",
    "\n",
    "# P1DT6H47M23S\n",
    "def strpduration(str):\n",
    "    return time.strptime()"
   ]
  },
  {
   "cell_type": "code",
   "execution_count": null,
   "metadata": {},
   "outputs": [],
   "source": [
    "finalVideoInfoData = db[\"finalVideoInfoData\"]\n",
    "init_data = list(videoInfoData.find())\n",
    "preprocessed_data = []\n",
    "for data in init_data[\"result\"]:\n",
    "    preprocessed_data.append(\n",
    "        {\n",
    "            \"id\": data[\"id\"],\n",
    "            \"publishedAt\": data[\"snippet\"].get(\"publishedAt\"),\n",
    "            \"channelId\": data[\"snippet\"].get(\"channelId\"),\n",
    "            \"title\": data[\"snippet\"].get(\"title\"),\n",
    "            \"description\": data[\"snippet\"].get(\"description\"),\n",
    "            \"channelTitle\":data[\"snippet\"].get(\"channelTitle\"),\n",
    "            \"tags\":data[\"snippet\"].get(\"tags\"),\n",
    "            \"categoryId\":data[\"snippet\"].get(\"categoryId\"),\n",
    "            \"duration\":data[\"contentDetails\"].get(\"duration\"),\n",
    "            \"publicStatsViewable\":data[\"status\"].get(\"publicStatsViewable\"),\n",
    "            \"madeForKids\":data[\"status\"].get(\"madeForKids\"),\n",
    "            \"viewCount\":data[\"statistics\"].get(\"viewCount\"),\n",
    "            \"likeCount\":data[\"statistics\"].get(\"likeCount\"),\n",
    "            \"favoriteCount\":data[\"statistics\"].get(\"favoriteCount\")\n",
    "        }\n",
    "    )"
   ]
  },
  {
   "cell_type": "code",
   "execution_count": null,
   "metadata": {},
   "outputs": [],
   "source": [
    "customSearch12 = CustomSearch(\"애플\", \"CAMSAhAB\", language=\"kr\", region=\"KR\")  # preprocess english or not?\n",
    "customSearch12.result()"
   ]
  }
 ],
 "metadata": {
  "interpreter": {
   "hash": "9dd586d44c41fb0b1ab810dae0e26bf44d0aa250bc9715a40aa3f5363ec38a89"
  },
  "kernelspec": {
   "display_name": "Python 3.10.2 ('youtube-api')",
   "language": "python",
   "name": "python3"
  },
  "language_info": {
   "codemirror_mode": {
    "name": "ipython",
    "version": 3
   },
   "file_extension": ".py",
   "mimetype": "text/x-python",
   "name": "python",
   "nbconvert_exporter": "python",
   "pygments_lexer": "ipython3",
   "version": "3.10.2"
  },
  "orig_nbformat": 4
 },
 "nbformat": 4,
 "nbformat_minor": 2
}
