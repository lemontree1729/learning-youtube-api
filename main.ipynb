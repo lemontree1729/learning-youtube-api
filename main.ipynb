{
 "cells": [
  {
   "cell_type": "code",
   "execution_count": 1,
   "metadata": {},
   "outputs": [],
   "source": [
    "from youtubeAPI import get_youtube_api_json\n",
    "from pymongo import MongoClient # you should install dnspython also\n",
    "from utils import ProgressBar\n",
    "from youtubesearchpython import *\n",
    "from pprint import pprint\n",
    "from preprocess import preprocessVideoData\n",
    "import seaborn as sns\n",
    "from scipy.stats import *\n",
    "import numpy as np\n",
    "import matplotlib.pyplot as plt\n",
    "import pandas as pd\n",
    "import re\n",
    "import datetime\n",
    "\n",
    "with open(\"apikey.txt\", encoding=\"utf8\") as f:\n",
    "    apikey1 = f.readline().strip()\n",
    "    apikey2 = f.readline().strip()\n",
    "\n",
    "with open(\"mongodb.txt\") as f:\n",
    "    mongodb_uri = f.readline().strip()\n",
    "\n",
    "client = MongoClient(mongodb_uri)\n",
    "db = client[\"youtube\"]\n",
    "searchData = db[\"searchData\"]"
   ]
  },
  {
   "cell_type": "code",
   "execution_count": null,
   "metadata": {},
   "outputs": [],
   "source": [
    "videosSearch = VideosSearch(\"\")\n",
    "pprint(videosSearch.result())"
   ]
  },
  {
   "cell_type": "code",
   "execution_count": null,
   "metadata": {},
   "outputs": [],
   "source": [
    "suggestionData = db[\"suggestionData\"]\n",
    "suggestions = Suggestions(language=\"kr\", region=\"KR\")"
   ]
  },
  {
   "cell_type": "code",
   "execution_count": null,
   "metadata": {},
   "outputs": [],
   "source": [
    "hangul = re.compile(\"[^가-힣]+\")"
   ]
  },
  {
   "cell_type": "code",
   "execution_count": null,
   "metadata": {},
   "outputs": [],
   "source": [
    "total_data = set()\n",
    "# for i in range(44032, 55216):\n",
    "start, end = 54000, 55216\n",
    "error_count = 0\n",
    "bar = ProgressBar(end - start)\n",
    "for i in range(start, end):\n",
    "    bar.next()\n",
    "    total_data.add(chr(i))\n",
    "    try:\n",
    "        data = suggestions.get(chr(i), mode=ResultMode.dict)\n",
    "        for j in data[\"result\"]:\n",
    "            if len(hangul.findall(j)) == 0:\n",
    "                total_data.add(j)\n",
    "    except:\n",
    "        error_count += 1\n",
    "total_data = list(total_data)\n",
    "total_data.sort()\n",
    "print(error_count, total_data)"
   ]
  },
  {
   "cell_type": "code",
   "execution_count": null,
   "metadata": {},
   "outputs": [],
   "source": [
    "suggestionData.insert_one({\"result\": total_data})"
   ]
  },
  {
   "cell_type": "code",
   "execution_count": null,
   "metadata": {},
   "outputs": [],
   "source": [
    "all_data = list(suggestionData.find())\n",
    "finalSuggestionData = db[\"finalSuggestionData\"]\n",
    "total_search_data = set()\n",
    "for data in all_data:\n",
    "    for keyword in data[\"result\"]:\n",
    "        total_search_data.add(keyword)\n",
    "total_search_data = list(total_search_data)\n",
    "total_search_data.sort()\n",
    "print(len(total_search_data))"
   ]
  },
  {
   "cell_type": "code",
   "execution_count": null,
   "metadata": {},
   "outputs": [],
   "source": [
    "finalSuggestionData.drop()"
   ]
  },
  {
   "cell_type": "code",
   "execution_count": null,
   "metadata": {},
   "outputs": [],
   "source": [
    "divide = 50\n",
    "size = len(total_search_data) // divide + 1\n",
    "for i in range(divide):\n",
    "    finalSuggestionData.insert_one(\n",
    "        {\"id\": i, \"result\": total_search_data[size * i : min(size * (i + 1), len(total_search_data))]}\n",
    "    )"
   ]
  },
  {
   "cell_type": "code",
   "execution_count": null,
   "metadata": {},
   "outputs": [],
   "source": [
    "Video.get(\"MhQKe-aERsU\")"
   ]
  },
  {
   "cell_type": "code",
   "execution_count": null,
   "metadata": {},
   "outputs": [],
   "source": [
    "finalSuggestionData = db[\"finalSuggestionData\"]\n",
    "\n",
    "for data_num in range(37, 50):\n",
    "    # data_num = 8\n",
    "    total = finalSuggestionData.find_one({\"id\": data_num})[\"result\"]\n",
    "    id_collection = set()\n",
    "    bar = ProgressBar(len(total))\n",
    "    error_count = 0\n",
    "    for target in total:\n",
    "        bar.next()\n",
    "        customSearch = CustomSearch(target, \"CAMSAhAB\", language=\"kr\", region=\"KR\")\n",
    "        while True:\n",
    "            search_result = customSearch.result()[\"result\"]\n",
    "            if len(search_result) == 0:\n",
    "                break\n",
    "            for result in search_result:\n",
    "                try:\n",
    "                    viewCount = int(result[\"viewCount\"][\"text\"].split(\" views\")[0].replace(\",\", \"\"))\n",
    "                    if viewCount < 10**6:\n",
    "                        break\n",
    "                    id_collection.add(result[\"id\"])\n",
    "                except:\n",
    "                    continue\n",
    "            else:\n",
    "                customSearch.next()\n",
    "                continue\n",
    "            break\n",
    "    print(\"count:\",data_num, error_count, len(id_collection))\n",
    "    videoIdData = db[\"videoIdData\"]\n",
    "    videoIdData.insert_one({\"id\":data_num, \"result\": list(id_collection)})"
   ]
  },
  {
   "cell_type": "code",
   "execution_count": null,
   "metadata": {},
   "outputs": [],
   "source": [
    "print(list(id_collection))"
   ]
  },
  {
   "cell_type": "code",
   "execution_count": null,
   "metadata": {},
   "outputs": [],
   "source": [
    "duplicate_datas = list(videoIdData.find())\n",
    "remove_duplicate = set()\n",
    "for duplicate_data in duplicate_datas[\"result\"]:\n",
    "    for id in duplicate_data:\n",
    "        remove_duplicate.add(id)\n",
    "remove_duplicate = list(remove_duplicate)\n",
    "finalVideoIdData = db[\"finalVideoIdData\"]\n",
    "divide = 50\n",
    "size = len(remove_duplicate) // divide + 1\n",
    "for i in range(divide):\n",
    "    finalVideoIdData.insert_one(\n",
    "        {\"id\": i, \"result\": remove_duplicate[size * i : min(size * (i + 1), len(remove_duplicate))]}\n",
    "    )"
   ]
  },
  {
   "cell_type": "code",
   "execution_count": null,
   "metadata": {},
   "outputs": [],
   "source": [
    "global_query = {\"key\": apikey1, \"maxResults\": 100, \"regionCode\": \"KR\"}\n",
    "\n",
    "\n",
    "def get_video(query):\n",
    "    final_query = {\n",
    "        **global_query,\n",
    "        **query,\n",
    "        \"part\": \"snippet, contentDetails, status, statistics, player, topicDetails, recordingDetails\",\n",
    "    }\n",
    "    return get_youtube_api_json(\"videos\", final_query)"
   ]
  },
  {
   "cell_type": "code",
   "execution_count": null,
   "metadata": {},
   "outputs": [],
   "source": [
    "videoInfoData = db[\"videoInfoData\"]\n",
    "final_total_id = list(finalVideoIdData.find())\n",
    "for ids in final_total_id[\"result\"]:\n",
    "    count = 0\n",
    "    result = []\n",
    "    while len(ids) > 50 * count:\n",
    "        query = {\"id\": \",\".join(ids[50 * count : min(50 * (count + 1), len(ids))])}\n",
    "        result.extend(get_video(query).get(\"items\", []))\n",
    "        count += 1\n",
    "    videoInfoData.insert_one({\"result\": result})"
   ]
  },
  {
   "cell_type": "code",
   "execution_count": null,
   "metadata": {},
   "outputs": [],
   "source": [
    "finalVideoInfoData = db[\"finalVideoInfoData\"]\n",
    "videoInfoData = db[\"videoInfoData\"]\n",
    "init_data = list(videoInfoData.find({\"id\":0}))\n",
    "preprocessed_data = []\n",
    "for data in init_data[0][\"result\"]:\n",
    "    pprint(data)\n",
    "    break"
   ]
  },
  {
   "cell_type": "code",
   "execution_count": null,
   "metadata": {},
   "outputs": [],
   "source": [
    "Video.get(\"SN-E6bO0Te0\")"
   ]
  },
  {
   "cell_type": "code",
   "execution_count": null,
   "metadata": {},
   "outputs": [],
   "source": [
    "get_video({\"id\":\"SN-E6bO0Te0\"})"
   ]
  },
  {
   "cell_type": "code",
   "execution_count": null,
   "metadata": {},
   "outputs": [],
   "source": [
    "finalVideoInfoData = db[\"finalVideoInfoData\"]\n",
    "videoInfoData = db[\"videoInfoData\"]\n",
    "preprocessed_data = []\n",
    "bar = ProgressBar(50)\n",
    "for i in range(50):\n",
    "    bar.next()\n",
    "    init_data = videoInfoData.find_one({\"id\":i})\n",
    "    for data in init_data[\"result\"]:\n",
    "            preprocessed_data.append(preprocessVideoData(data))"
   ]
  },
  {
   "cell_type": "code",
   "execution_count": null,
   "metadata": {},
   "outputs": [],
   "source": [
    "len(preprocessed_data)"
   ]
  },
  {
   "cell_type": "code",
   "execution_count": null,
   "metadata": {},
   "outputs": [],
   "source": [
    "from preprocess import isKoreanVideo\n",
    "koreanVideo = []\n",
    "for data in preprocessed_data:\n",
    "    if isKoreanVideo(data):\n",
    "        koreanVideo.append(data)\n",
    "print(len(koreanVideo))"
   ]
  },
  {
   "cell_type": "code",
   "execution_count": null,
   "metadata": {},
   "outputs": [],
   "source": [
    "finalVideoInfoData = db[\"finalVideoInfoData\"]\n",
    "finalVideoInfoData.insert_many(koreanVideo)"
   ]
  },
  {
   "cell_type": "code",
   "execution_count": 3,
   "metadata": {},
   "outputs": [],
   "source": [
    "finalVideoInfoData = db[\"finalVideoInfoData\"]\n",
    "data = list(finalVideoInfoData.find())\n",
    "\n",
    "df = pd.DataFrame(data)"
   ]
  },
  {
   "cell_type": "code",
   "execution_count": 11,
   "metadata": {},
   "outputs": [
    {
     "name": "stdout",
     "output_type": "stream",
     "text": [
      "<class 'pandas.core.frame.DataFrame'>\n",
      "RangeIndex: 175442 entries, 0 to 175441\n",
      "Data columns (total 21 columns):\n",
      " #   Column                Non-Null Count   Dtype         \n",
      "---  ------                --------------   -----         \n",
      " 0   _id                   175442 non-null  object        \n",
      " 1   id                    175442 non-null  object        \n",
      " 2   duration              175442 non-null  int64         \n",
      " 3   caption               175442 non-null  bool          \n",
      " 4   publishedAt           175442 non-null  datetime64[ns]\n",
      " 5   channelId             175442 non-null  object        \n",
      " 6   title                 175442 non-null  object        \n",
      " 7   description           175442 non-null  object        \n",
      " 8   channelTitle          175442 non-null  object        \n",
      " 9   tags                  153214 non-null  object        \n",
      " 10  categoryId            175442 non-null  int64         \n",
      " 11  liveBroadcastContent  175442 non-null  bool          \n",
      " 12  defaultAudioLanguage  121539 non-null  object        \n",
      " 13  defaultLanguage       72031 non-null   object        \n",
      " 14  viewCount             175442 non-null  int64         \n",
      " 15  commentCount          169023 non-null  float64       \n",
      " 16  likeCount             170592 non-null  float64       \n",
      " 17  favoriteCount         175442 non-null  int64         \n",
      " 18  madeForKids           175442 non-null  bool          \n",
      " 19  uploadStatus          175442 non-null  object        \n",
      " 20  topicCategories       175442 non-null  object        \n",
      "dtypes: bool(3), datetime64[ns](1), float64(2), int64(4), object(11)\n",
      "memory usage: 24.6+ MB\n"
     ]
    }
   ],
   "source": [
    "df.info()"
   ]
  },
  {
   "cell_type": "code",
   "execution_count": 4,
   "metadata": {},
   "outputs": [
    {
     "name": "stdout",
     "output_type": "stream",
     "text": [
      "6419\n",
      "14164\n",
      "154859\n"
     ]
    }
   ],
   "source": [
    "print(len(df[df.commentCount.isnull()]))\n",
    "print(len(df[df.commentCount==0]))\n",
    "hasComment = df[df.commentCount.notnull() & df.commentCount != 0].copy()\n",
    "print(len(hasComment))"
   ]
  },
  {
   "cell_type": "code",
   "execution_count": 6,
   "metadata": {},
   "outputs": [
    {
     "data": {
      "image/png": "[encoded data removed]",
      "text/plain": [
       "<Figure size 432x288 with 1 Axes>"
      ]
     },
     "metadata": {
      "needs_background": "light"
     },
     "output_type": "display_data"
    }
   ],
   "source": [
    "hasComment[\"commentperview\"] = hasComment.commentCount/hasComment.viewCount\n",
    "axes = sns.histplot(hasComment, x=hasComment.commentperview, log_scale=True, kde=True)"
   ]
  },
  {
   "cell_type": "code",
   "execution_count": 7,
   "metadata": {},
   "outputs": [
    {
     "data": {
      "text/plain": [
       "<AxesSubplot:xlabel='commentperview', ylabel='Count'>"
      ]
     },
     "execution_count": 7,
     "metadata": {},
     "output_type": "execute_result"
    },
    {
     "data": {
      "image/png": "[encoded data removed]",
      "text/plain": [
       "<Figure size 432x288 with 1 Axes>"
      ]
     },
     "metadata": {
      "needs_background": "light"
     },
     "output_type": "display_data"
    }
   ],
   "source": [
    "sns.histplot(hasComment, x=hasComment.commentperview, log_scale=True, kde=True, hue=\"categoryId\")"
   ]
  },
  {
   "cell_type": "code",
   "execution_count": null,
   "metadata": {},
   "outputs": [],
   "source": [
    "print(kstest(hasComment[\"commentperview\"], 'norm', (0.0010069749358285341, 0.0024945284406088773)))\n",
    "print(kstest(hasComment[\"commentperview\"], 'lognorm', (1111231,1,2)))\n",
    "loc, scale1 = norm.fit(hasComment[\"commentperview\"])\n",
    "shape, floc, scale2 = lognorm.fit(hasComment[\"commentperview\"])\n",
    "print(loc, scale1, shape, floc, scale2)"
   ]
  },
  {
   "cell_type": "code",
   "execution_count": null,
   "metadata": {},
   "outputs": [],
   "source": [
    "s = 1\n",
    "print(lognorm.ppf(0.01, s), lognorm.ppf(0.99, s))\n",
    "# x = np.linspace(lognorm.ppf(0.01, s), lognorm.ppf(0.99, s), 100)\n",
    "x = np.logspace(-1, 6, 100000)\n",
    "print(lognorm.pdf([1,2,3], 1))\n",
    "axes = sns.histplot(lognorm.pdf(x, s), log_scale=True)"
   ]
  },
  {
   "cell_type": "code",
   "execution_count": null,
   "metadata": {},
   "outputs": [],
   "source": []
  },
  {
   "cell_type": "code",
   "execution_count": null,
   "metadata": {},
   "outputs": [],
   "source": [
    "commentCount1 = hasComment.commentCount.tolist()\n",
    "commentCount2 = hasComment[hasComment.viewCount>10000000].commentCount.tolist()*10\n",
    "commentCount3 = hasComment[hasComment.viewCount>100000000].commentCount.tolist()*100\n",
    "sns.histplot(commentCount1, log_scale=True,  kde=True)\n",
    "sns.histplot(commentCount2, log_scale=True,  kde=True, color='g')\n",
    "sns.histplot(commentCount3, log_scale=True,  kde=True, color=\"y\")"
   ]
  },
  {
   "cell_type": "code",
   "execution_count": null,
   "metadata": {},
   "outputs": [],
   "source": [
    "sns.histplot(hasComment, x=hasComment[hasComment.viewCount>10000000].commentCount, log_scale=True,  kde=True)"
   ]
  },
  {
   "cell_type": "code",
   "execution_count": null,
   "metadata": {},
   "outputs": [],
   "source": [
    "sns.histplot(hasComment, x=hasComment[hasComment.viewCount>100000000].commentCount, log_scale=True,  kde=True)"
   ]
  },
  {
   "cell_type": "code",
   "execution_count": null,
   "metadata": {},
   "outputs": [],
   "source": [
    "sns.histplot(hasComment, x=hasComment.viewCount, kde=True, log_scale=True)"
   ]
  },
  {
   "cell_type": "code",
   "execution_count": null,
   "metadata": {},
   "outputs": [],
   "source": [
    "print(len(hasComment))"
   ]
  },
  {
   "cell_type": "code",
   "execution_count": null,
   "metadata": {},
   "outputs": [],
   "source": [
    "df.info()\n",
    "df[df.favoriteCount != 0][\"favoriteCount\"]"
   ]
  },
  {
   "cell_type": "code",
   "execution_count": null,
   "metadata": {},
   "outputs": [],
   "source": [
    "import seaborn as sns\n",
    "\n",
    "# r이 -1.0과 -0.7 사이이면, 강한 음적 선형관계,\n",
    "# r이 -0.7과 -0.3 사이이면, 뚜렷한 음적 선형관계,\n",
    "# r이 -0.3과 -0.1 사이이면, 약한 음적 선형관계,\n",
    "# r이 -0.1과 +0.1 사이이면, 거의 무시될 수 있는 선형관계,\n",
    "# r이 +0.1과 +0.3 사이이면, 약한 양적 선형관계,\n",
    "# r이 +0.3과 +0.7 사이이면, 뚜렷한 양적 선형관계,\n",
    "# r이 +0.7과 +1.0 사이이면, 강한 양적 선형관계\n",
    "\n",
    "hasValues = df[df.commentCount.notnull() & df.commentCount != 0 & df.likeCount.notnull()][[\"viewCount\", \"commentCount\", \"likeCount\"]].copy()\n",
    "corr = hasValues.corr(method=\"pearson\")\n",
    "print(corr, sep=\"\\n\\n\")\n",
    "# sns.pairplot(hasValues[[\"viewCount\", \"commentCount\", \"likeCount\", \"favoriteCount\"]])"
   ]
  },
  {
   "cell_type": "code",
   "execution_count": null,
   "metadata": {},
   "outputs": [],
   "source": [
    "df[df.liveBroadcastContent][[\"title\", \"viewCount\"]]"
   ]
  },
  {
   "cell_type": "code",
   "execution_count": null,
   "metadata": {},
   "outputs": [],
   "source": [
    "print(len(df[df.liveBroadcastContent]))\n",
    "print(len(df[~df.liveBroadcastContent]))\n",
    "notLive = df[~df.liveBroadcastContent].copy()"
   ]
  },
  {
   "cell_type": "code",
   "execution_count": null,
   "metadata": {},
   "outputs": [],
   "source": [
    "sns.histplot(notLive, x=notLive.duration, kde=True, log_scale=True)"
   ]
  },
  {
   "cell_type": "code",
   "execution_count": null,
   "metadata": {},
   "outputs": [],
   "source": [
    "sns.histplot(df, x=df.publishedAt, kde=True)"
   ]
  },
  {
   "cell_type": "code",
   "execution_count": null,
   "metadata": {},
   "outputs": [],
   "source": [
    "sns.histplot(df, x=df[df.publishedAt>=datetime.datetime(2022,1,1)].publishedAt, kde=True)"
   ]
  },
  {
   "cell_type": "code",
   "execution_count": null,
   "metadata": {},
   "outputs": [],
   "source": [
    "def todaytime(data:datetime.datetime):\n",
    "    return data.hour*3600 + data.minute*60 + data.second\n",
    "\n",
    "\n",
    "primetime = df.publishedAt.copy().apply(lambda x:x.hour)\n",
    "sns.histplot(primetime, bins=24)"
   ]
  },
  {
   "cell_type": "code",
   "execution_count": 4,
   "metadata": {},
   "outputs": [
    {
     "name": "stdout",
     "output_type": "stream",
     "text": [
      "22228\n"
     ]
    }
   ],
   "source": [
    "print(len(df[df.tags.isnull()]))\n",
    "hasTag = df[df.tags.notnull()].copy()"
   ]
  },
  {
   "cell_type": "code",
   "execution_count": 8,
   "metadata": {},
   "outputs": [
    {
     "name": "stdout",
     "output_type": "stream",
     "text": [
      "[('먹방', 10083), ('장난감', 5535), ('kpop', 5483), ('애니메이션', 5379), ('yt:cc=on', 4625), ('mukbang', 4611), ('드라마', 4389), ('어린이', 4238), ('키즈', 4012), ('tvN', 3903), ('SBS', 3871), ('아이돌', 3770), ('MBC', 3708), ('예능', 3579), ('레전드', 3325), ('kids', 3213), ('유재석', 3157), ('asmr', 3131), ('ASMR', 3079), ('개그', 3042), ('Kpop', 3036), ('엠넷', 3030), ('꿀잼', 2898), ('코미디', 2835), ('KBS', 2805), ('유아', 2715), ('게임', 2700), ('웃긴영상', 2662), ('놀이', 2659), ('뽀로로', 2609), ('JTBC', 2609), ('Mnet', 2608), ('리얼사운드', 2597), ('음악', 2593), ('라이브', 2521), ('마인크래프트', 2497), ('교육', 2458), ('동요', 2353), ('toy', 2352), ('노래', 2342), ('한국', 2327), ('댄스', 2325), ('만화', 2284), ('toys', 2280), ('korea', 2244), ('디글', 2239), ('요리', 2157), ('영화', 2145), ('브이로그', 2131), ('방탄소년단', 2130), ('웃긴', 2118), ('마크', 2117), ('k-pop', 2109), ('케이팝', 2085), ('korean', 2080), ('가족', 2065), ('Diggle', 2049), ('KPOP', 1984), ('타요', 1955), ('뉴스', 1900), ('뮤비', 1898), ('몰카', 1895), ('animation', 1895), ('하하', 1875), ('토이', 1866), ('Korea', 1855), ('인기동요', 1819), ('시트콤', 1812), ('eating show', 1797), ('한류', 1786), ('music', 1771), ('MV', 1718), ('BTS', 1717), ('idol', 1712), ('다시보기', 1681), ('공감', 1652), ('일상', 1650), ('이수근', 1624), ('런닝맨', 1611), ('리뷰', 1594), ('흔한남매', 1578), ('강호동', 1566), ('Entertainment', 1566), ('korean mukbang', 1555), ('개그맨', 1550), ('유치원', 1545), ('무한도전', 1529), ('자동차', 1526), ('공룡', 1521), ('몰래카메라', 1520), ('vlog', 1520), ('음식', 1500), ('유아교육', 1494), ('Live', 1492), ('MUKBANG', 1489), ('어린이동요', 1488), ('funny', 1475), ('재미', 1471), ('병맛', 1471), ('Mukbang', 1466)]\n"
     ]
    }
   ],
   "source": [
    "from collections import Counter\n",
    "total_tags = []\n",
    "for tags in hasTag.tags:\n",
    "    total_tags.extend(tags)\n",
    "total_tag_counter = Counter(total_tags)\n",
    "print(total_tag_counter.most_common(100))\n",
    "# got IOPub data rate exceeded. error"
   ]
  },
  {
   "cell_type": "code",
   "execution_count": 10,
   "metadata": {},
   "outputs": [
    {
     "name": "stdout",
     "output_type": "stream",
     "text": [
      "[('Lifestyle_(sociology)', 52848), ('Entertainment', 50560), ('Music', 40987), ('Music_of_Asia', 34442), ('Film', 27348), ('Pop_music', 25597), ('Food', 21162), ('Television_program', 14929), ('Hobby', 11159), ('Video_game_culture', 10685), ('Society', 7900), ('Action-adventure_game', 6839), ('Role-playing_video_game', 5560), ('Hip_hop_music', 5479), ('Action_game', 5432), ('Sport', 3723), ('Pet', 3556), ('Strategy_video_game', 3272), ('Electronic_music', 2642), ('Performing_arts', 2474), ('Vehicle', 2062), ('Politics', 1721), ('Physical_fitness', 1549), ('Technology', 1499), ('Association_football', 1297), ('Health', 1200), ('Knowledge', 1047), ('Rhythm_and_blues', 830), ('Rock_music', 750), ('Fashion', 676), ('Humour', 597), ('Classical_music', 526), ('Soul_music', 519), ('Christian_music', 513), ('Baseball', 381), ('Independent_music', 353), ('Religion', 304), ('Golf', 290), ('Racing_video_game', 279), ('Tourism', 263), ('Puzzle_video_game', 249), ('Basketball', 240), ('Sports_game', 202), ('Music_of_Latin_America', 192), ('Casual_game', 186), ('Military', 183), ('Boxing', 162), ('Jazz', 128), ('Volleyball', 120), ('Physical_attractiveness', 115), ('Music_video_game', 106), ('Simulation_video_game', 100), ('Mixed_martial_arts', 97), ('Tennis', 46), ('Business', 36), ('Reggae', 28), ('Motorsport', 22), ('Country_music', 21), ('Professional_wrestling', 14), ('Ice_hockey', 3), ('American_football', 1), ('Cricket', 1)]\n"
     ]
    }
   ],
   "source": [
    "total_categories = []\n",
    "for categories in df.topicCategories:\n",
    "    total_categories.extend(categories)\n",
    "total_category_counter = Counter(total_categories)\n",
    "print(total_category_counter.most_common(100))"
   ]
  },
  {
   "cell_type": "code",
   "execution_count": 13,
   "metadata": {},
   "outputs": [
    {
     "name": "stdout",
     "output_type": "stream",
     "text": [
      "[(24, 61050), (22, 29593), (10, 21837), (1, 12790), (20, 10979), (23, 8612), (27, 6588), (26, 6517), (25, 5067), (17, 3923), (15, 3061), (19, 2693), (2, 1305), (28, 942), (29, 485)]\n"
     ]
    }
   ],
   "source": [
    "total2_categories = []\n",
    "for categories in df.categoryId:\n",
    "    total2_categories.append(categories)\n",
    "total2_category_counter = Counter(total2_categories)\n",
    "print(total2_category_counter.most_common(100))"
   ]
  },
  {
   "cell_type": "code",
   "execution_count": null,
   "metadata": {},
   "outputs": [],
   "source": [
    "customSearch12 = CustomSearch(\"애플\", \"CAMSAhAB\", language=\"kr\", region=\"KR\")  # preprocess english or not?\n",
    "customSearch12.result()"
   ]
  }
 ],
 "metadata": {
  "interpreter": {
   "hash": "9dd586d44c41fb0b1ab810dae0e26bf44d0aa250bc9715a40aa3f5363ec38a89"
  },
  "kernelspec": {
   "display_name": "Python 3 (ipykernel)",
   "language": "python",
   "name": "python3"
  },
  "language_info": {
   "codemirror_mode": {
    "name": "ipython",
    "version": 3
   },
   "file_extension": ".py",
   "mimetype": "text/x-python",
   "name": "python",
   "nbconvert_exporter": "python",
   "pygments_lexer": "ipython3",
   "version": "3.9.10"
  }
 },
 "nbformat": 4,
 "nbformat_minor": 2
}
