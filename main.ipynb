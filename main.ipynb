{
 "cells": [
  {
   "cell_type": "code",
   "execution_count": 1,
   "metadata": {},
   "outputs": [],
   "source": [
    "from youtubeAPI import get_youtube_api_json\n",
    "from pymongo import MongoClient # you should install dnspython also\n",
    "from utils import ProgressBar\n",
    "from youtubesearchpython import *\n",
    "from pprint import pprint\n",
    "from preprocess import preprocessVideoData\n",
    "import seaborn as sns\n",
    "from scipy.stats import *\n",
    "import numpy as np\n",
    "import matplotlib.pyplot as plt\n",
    "import pandas as pd\n",
    "import re\n",
    "import datetime\n",
    "\n",
    "with open(\"apikey.txt\", encoding=\"utf8\") as f:\n",
    "    apikey1 = f.readline().strip()\n",
    "    apikey2 = f.readline().strip()\n",
    "\n",
    "with open(\"mongodb.txt\") as f:\n",
    "    mongodb_uri = f.readline().strip()\n",
    "\n",
    "client = MongoClient(mongodb_uri)\n",
    "db = client[\"youtube\"]\n",
    "searchData = db[\"searchData\"]"
   ]
  },
  {
   "cell_type": "code",
   "execution_count": null,
   "metadata": {},
   "outputs": [],
   "source": [
    "videosSearch = VideosSearch(\"\")\n",
    "pprint(videosSearch.result())"
   ]
  },
  {
   "cell_type": "code",
   "execution_count": null,
   "metadata": {},
   "outputs": [],
   "source": [
    "suggestionData = db[\"suggestionData\"]\n",
    "suggestions = Suggestions(language=\"kr\", region=\"KR\")"
   ]
  },
  {
   "cell_type": "code",
   "execution_count": null,
   "metadata": {},
   "outputs": [],
   "source": [
    "hangul = re.compile(\"[^가-힣]+\")"
   ]
  },
  {
   "cell_type": "code",
   "execution_count": null,
   "metadata": {},
   "outputs": [],
   "source": [
    "total_data = set()\n",
    "# for i in range(44032, 55216):\n",
    "start, end = 54000, 55216\n",
    "error_count = 0\n",
    "bar = ProgressBar(end - start)\n",
    "for i in range(start, end):\n",
    "    bar.next()\n",
    "    total_data.add(chr(i))\n",
    "    try:\n",
    "        data = suggestions.get(chr(i), mode=ResultMode.dict)\n",
    "        for j in data[\"result\"]:\n",
    "            if len(hangul.findall(j)) == 0:\n",
    "                total_data.add(j)\n",
    "    except:\n",
    "        error_count += 1\n",
    "total_data = list(total_data)\n",
    "total_data.sort()\n",
    "print(error_count, total_data)"
   ]
  },
  {
   "cell_type": "code",
   "execution_count": null,
   "metadata": {},
   "outputs": [],
   "source": [
    "suggestionData.insert_one({\"result\": total_data})"
   ]
  },
  {
   "cell_type": "code",
   "execution_count": null,
   "metadata": {},
   "outputs": [],
   "source": [
    "all_data = list(suggestionData.find())\n",
    "finalSuggestionData = db[\"finalSuggestionData\"]\n",
    "total_search_data = set()\n",
    "for data in all_data:\n",
    "    for keyword in data[\"result\"]:\n",
    "        total_search_data.add(keyword)\n",
    "total_search_data = list(total_search_data)\n",
    "total_search_data.sort()\n",
    "print(len(total_search_data))"
   ]
  },
  {
   "cell_type": "code",
   "execution_count": null,
   "metadata": {},
   "outputs": [],
   "source": [
    "finalSuggestionData.drop()"
   ]
  },
  {
   "cell_type": "code",
   "execution_count": null,
   "metadata": {},
   "outputs": [],
   "source": [
    "divide = 50\n",
    "size = len(total_search_data) // divide + 1\n",
    "for i in range(divide):\n",
    "    finalSuggestionData.insert_one(\n",
    "        {\"id\": i, \"result\": total_search_data[size * i : min(size * (i + 1), len(total_search_data))]}\n",
    "    )"
   ]
  },
  {
   "cell_type": "code",
   "execution_count": null,
   "metadata": {},
   "outputs": [],
   "source": [
    "Video.get(\"MhQKe-aERsU\")"
   ]
  },
  {
   "cell_type": "code",
   "execution_count": null,
   "metadata": {},
   "outputs": [],
   "source": [
    "finalSuggestionData = db[\"finalSuggestionData\"]\n",
    "\n",
    "for data_num in range(37, 50):\n",
    "    # data_num = 8\n",
    "    total = finalSuggestionData.find_one({\"id\": data_num})[\"result\"]\n",
    "    id_collection = set()\n",
    "    bar = ProgressBar(len(total))\n",
    "    error_count = 0\n",
    "    for target in total:\n",
    "        bar.next()\n",
    "        customSearch = CustomSearch(target, \"CAMSAhAB\", language=\"kr\", region=\"KR\")\n",
    "        while True:\n",
    "            search_result = customSearch.result()[\"result\"]\n",
    "            if len(search_result) == 0:\n",
    "                break\n",
    "            for result in search_result:\n",
    "                try:\n",
    "                    viewCount = int(result[\"viewCount\"][\"text\"].split(\" views\")[0].replace(\",\", \"\"))\n",
    "                    if viewCount < 10**6:\n",
    "                        break\n",
    "                    id_collection.add(result[\"id\"])\n",
    "                except:\n",
    "                    continue\n",
    "            else:\n",
    "                customSearch.next()\n",
    "                continue\n",
    "            break\n",
    "    print(\"count:\",data_num, error_count, len(id_collection))\n",
    "    videoIdData = db[\"videoIdData\"]\n",
    "    videoIdData.insert_one({\"id\":data_num, \"result\": list(id_collection)})"
   ]
  },
  {
   "cell_type": "code",
   "execution_count": null,
   "metadata": {},
   "outputs": [],
   "source": [
    "print(list(id_collection))"
   ]
  },
  {
   "cell_type": "code",
   "execution_count": null,
   "metadata": {},
   "outputs": [],
   "source": [
    "duplicate_datas = list(videoIdData.find())\n",
    "remove_duplicate = set()\n",
    "for duplicate_data in duplicate_datas[\"result\"]:\n",
    "    for id in duplicate_data:\n",
    "        remove_duplicate.add(id)\n",
    "remove_duplicate = list(remove_duplicate)\n",
    "finalVideoIdData = db[\"finalVideoIdData\"]\n",
    "divide = 50\n",
    "size = len(remove_duplicate) // divide + 1\n",
    "for i in range(divide):\n",
    "    finalVideoIdData.insert_one(\n",
    "        {\"id\": i, \"result\": remove_duplicate[size * i : min(size * (i + 1), len(remove_duplicate))]}\n",
    "    )"
   ]
  },
  {
   "cell_type": "code",
   "execution_count": null,
   "metadata": {},
   "outputs": [],
   "source": [
    "global_query = {\"key\": apikey1, \"maxResults\": 100, \"regionCode\": \"KR\"}\n",
    "\n",
    "\n",
    "def get_video(query):\n",
    "    final_query = {\n",
    "        **global_query,\n",
    "        **query,\n",
    "        \"part\": \"snippet, contentDetails, status, statistics, player, topicDetails, recordingDetails\",\n",
    "    }\n",
    "    return get_youtube_api_json(\"videos\", final_query)"
   ]
  },
  {
   "cell_type": "code",
   "execution_count": null,
   "metadata": {},
   "outputs": [],
   "source": [
    "videoInfoData = db[\"videoInfoData\"]\n",
    "final_total_id = list(finalVideoIdData.find())\n",
    "for ids in final_total_id[\"result\"]:\n",
    "    count = 0\n",
    "    result = []\n",
    "    while len(ids) > 50 * count:\n",
    "        query = {\"id\": \",\".join(ids[50 * count : min(50 * (count + 1), len(ids))])}\n",
    "        result.extend(get_video(query).get(\"items\", []))\n",
    "        count += 1\n",
    "    videoInfoData.insert_one({\"result\": result})"
   ]
  },
  {
   "cell_type": "code",
   "execution_count": null,
   "metadata": {},
   "outputs": [],
   "source": [
    "finalVideoInfoData = db[\"finalVideoInfoData\"]\n",
    "videoInfoData = db[\"videoInfoData\"]\n",
    "init_data = list(videoInfoData.find({\"id\":0}))\n",
    "preprocessed_data = []\n",
    "for data in init_data[0][\"result\"]:\n",
    "    pprint(data)\n",
    "    break"
   ]
  },
  {
   "cell_type": "code",
   "execution_count": null,
   "metadata": {},
   "outputs": [],
   "source": [
    "Video.get(\"SN-E6bO0Te0\")"
   ]
  },
  {
   "cell_type": "code",
   "execution_count": null,
   "metadata": {},
   "outputs": [],
   "source": [
    "get_video({\"id\":\"SN-E6bO0Te0\"})"
   ]
  },
  {
   "cell_type": "code",
   "execution_count": null,
   "metadata": {},
   "outputs": [],
   "source": [
    "finalVideoInfoData = db[\"finalVideoInfoData\"]\n",
    "videoInfoData = db[\"videoInfoData\"]\n",
    "preprocessed_data = []\n",
    "bar = ProgressBar(50)\n",
    "for i in range(50):\n",
    "    bar.next()\n",
    "    init_data = videoInfoData.find_one({\"id\":i})\n",
    "    for data in init_data[\"result\"]:\n",
    "            preprocessed_data.append(preprocessVideoData(data))"
   ]
  },
  {
   "cell_type": "code",
   "execution_count": null,
   "metadata": {},
   "outputs": [],
   "source": [
    "len(preprocessed_data)"
   ]
  },
  {
   "cell_type": "code",
   "execution_count": null,
   "metadata": {},
   "outputs": [],
   "source": [
    "from preprocess import isKoreanVideo\n",
    "koreanVideo = []\n",
    "for data in preprocessed_data:\n",
    "    if isKoreanVideo(data):\n",
    "        koreanVideo.append(data)\n",
    "print(len(koreanVideo))"
   ]
  },
  {
   "cell_type": "code",
   "execution_count": null,
   "metadata": {},
   "outputs": [],
   "source": [
    "finalVideoInfoData = db[\"finalVideoInfoData\"]\n",
    "finalVideoInfoData.insert_many(koreanVideo)"
   ]
  },
  {
   "cell_type": "code",
   "execution_count": 2,
   "metadata": {},
   "outputs": [],
   "source": [
    "finalVideoInfoData = db[\"finalVideoInfoData\"]\n",
    "data = list(finalVideoInfoData.find())\n",
    "\n",
    "df = pd.DataFrame(data)"
   ]
  },
  {
   "cell_type": "code",
   "execution_count": 11,
   "metadata": {},
   "outputs": [
    {
     "name": "stdout",
     "output_type": "stream",
     "text": [
      "<class 'pandas.core.frame.DataFrame'>\n",
      "RangeIndex: 175442 entries, 0 to 175441\n",
      "Data columns (total 21 columns):\n",
      " #   Column                Non-Null Count   Dtype         \n",
      "---  ------                --------------   -----         \n",
      " 0   _id                   175442 non-null  object        \n",
      " 1   id                    175442 non-null  object        \n",
      " 2   duration              175442 non-null  int64         \n",
      " 3   caption               175442 non-null  bool          \n",
      " 4   publishedAt           175442 non-null  datetime64[ns]\n",
      " 5   channelId             175442 non-null  object        \n",
      " 6   title                 175442 non-null  object        \n",
      " 7   description           175442 non-null  object        \n",
      " 8   channelTitle          175442 non-null  object        \n",
      " 9   tags                  153214 non-null  object        \n",
      " 10  categoryId            175442 non-null  int64         \n",
      " 11  liveBroadcastContent  175442 non-null  bool          \n",
      " 12  defaultAudioLanguage  121539 non-null  object        \n",
      " 13  defaultLanguage       72031 non-null   object        \n",
      " 14  viewCount             175442 non-null  int64         \n",
      " 15  commentCount          169023 non-null  float64       \n",
      " 16  likeCount             170592 non-null  float64       \n",
      " 17  favoriteCount         175442 non-null  int64         \n",
      " 18  madeForKids           175442 non-null  bool          \n",
      " 19  uploadStatus          175442 non-null  object        \n",
      " 20  topicCategories       175442 non-null  object        \n",
      "dtypes: bool(3), datetime64[ns](1), float64(2), int64(4), object(11)\n",
      "memory usage: 24.6+ MB\n"
     ]
    }
   ],
   "source": [
    "df.info()"
   ]
  },
  {
   "cell_type": "code",
   "execution_count": 5,
   "metadata": {},
   "outputs": [
    {
     "name": "stdout",
     "output_type": "stream",
     "text": [
      "6419\n",
      "14164\n",
      "154859\n"
     ]
    }
   ],
   "source": [
    "print(len(df[df.commentCount.isnull()]))\n",
    "print(len(df[df.commentCount==0]))\n",
    "hasComment = df[df.commentCount.notnull() & df.commentCount != 0].copy()\n",
    "print(len(hasComment))"
   ]
  },
  {
   "cell_type": "code",
   "execution_count": 84,
   "metadata": {},
   "outputs": [
    {
     "name": "stderr",
     "output_type": "stream",
     "text": [
      "C:\\Users\\songy\\scoop\\apps\\miniconda3\\current\\envs\\youtube-api\\lib\\site-packages\\pandas\\core\\arraylike.py:397: RuntimeWarning: invalid value encountered in log10\n",
      "  result = getattr(ufunc, method)(*inputs, **kwargs)\n"
     ]
    },
    {
     "name": "stdout",
     "output_type": "stream",
     "text": [
      "shape:0.9550005497382943, floc:-5.712217693331209e-05, scale:0.0006662620633904155\n",
      "KstestResult(statistic=0.012348849336762724, pvalue=6.095232146642431e-21)\n"
     ]
    },
    {
     "data": {
      "image/png": "[encoded data removed]",
      "text/plain": [
       "<Figure size 432x288 with 1 Axes>"
      ]
     },
     "metadata": {
      "needs_background": "light"
     },
     "output_type": "display_data"
    }
   ],
   "source": [
    "hasComment[\"commentperview\"] = hasComment.commentCount/hasComment.viewCount\n",
    "sns.histplot(hasComment, x=hasComment.commentperview, log_scale=True)\n",
    "\n",
    "\n",
    "params = lognorm.fit(hasComment[\"commentperview\"])\n",
    "sns.histplot([lognorm.rvs(*params) for _ in range(len(hasComment))], log_scale=True, color=\"r\", alpha=0, kde=True)\n",
    "plt.legend(labels = ['fitting','commentperview'])\n",
    "print(f\"shape:{params[0]}, floc:{params[1]}, scale:{params[2]}\")\n",
    "print(kstest(hasComment[\"commentperview\"], 'lognorm', params, len(hasComment))) # p-test not working because dataset is too large so p-test is too powerful"
   ]
  },
  {
   "cell_type": "code",
   "execution_count": 81,
   "metadata": {},
   "outputs": [
    {
     "data": {
      "text/plain": [
       "<AxesSubplot:ylabel='Count'>"
      ]
     },
     "execution_count": 81,
     "metadata": {},
     "output_type": "execute_result"
    },
    {
     "data": {
      "image/png": "[encoded data removed]",
      "text/plain": [
       "<Figure size 432x288 with 1 Axes>"
      ]
     },
     "metadata": {
      "needs_background": "light"
     },
     "output_type": "display_data"
    }
   ],
   "source": [
    "commentCount1 = hasComment.commentCount.tolist()\n",
    "commentCount2 = hasComment[hasComment.viewCount>10000000].commentCount.tolist()*10\n",
    "commentCount3 = hasComment[hasComment.viewCount>100000000].commentCount.tolist()*100\n",
    "sns.histplot(commentCount1, log_scale=True,  kde=True)\n",
    "sns.histplot(commentCount2, log_scale=True,  kde=True, color='g')\n",
    "sns.histplot(commentCount3, log_scale=True,  kde=True, color=\"y\")"
   ]
  },
  {
   "cell_type": "code",
   "execution_count": 64,
   "metadata": {},
   "outputs": [
    {
     "name": "stdout",
     "output_type": "stream",
     "text": [
      "[24 20 10 22 23 15  1 19 29 28 17 27  2 25 26]\n"
     ]
    },
    {
     "data": {
      "image/png": "[encoded data removed]",
      "text/plain": [
       "<Figure size 432x288 with 1 Axes>"
      ]
     },
     "metadata": {
      "needs_background": "light"
     },
     "output_type": "display_data"
    }
   ],
   "source": [
    "sns.histplot(hasComment, x=hasComment.commentperview, log_scale=True, kde=True, hue=\"categoryId\")"
   ]
  },
  {
   "cell_type": "code",
   "execution_count": 83,
   "metadata": {},
   "outputs": [
    {
     "data": {
      "text/html": [
       "<div>\n",
       "<style scoped>\n",
       "    .dataframe tbody tr th:only-of-type {\n",
       "        vertical-align: middle;\n",
       "    }\n",
       "\n",
       "    .dataframe tbody tr th {\n",
       "        vertical-align: top;\n",
       "    }\n",
       "\n",
       "    .dataframe thead th {\n",
       "        text-align: right;\n",
       "    }\n",
       "</style>\n",
       "<table border=\"1\" class=\"dataframe\">\n",
       "  <thead>\n",
       "    <tr style=\"text-align: right;\">\n",
       "      <th></th>\n",
       "      <th>name</th>\n",
       "      <th>shape</th>\n",
       "      <th>floc</th>\n",
       "      <th>scale</th>\n",
       "    </tr>\n",
       "  </thead>\n",
       "  <tbody>\n",
       "    <tr>\n",
       "      <th>5</th>\n",
       "      <td>Pets &amp; Animals</td>\n",
       "      <td>0.100425</td>\n",
       "      <td>-0.006356</td>\n",
       "      <td>0.007244</td>\n",
       "    </tr>\n",
       "    <tr>\n",
       "      <th>13</th>\n",
       "      <td>Howto &amp; Style</td>\n",
       "      <td>0.190506</td>\n",
       "      <td>-0.002315</td>\n",
       "      <td>0.002891</td>\n",
       "    </tr>\n",
       "    <tr>\n",
       "      <th>9</th>\n",
       "      <td>Sports</td>\n",
       "      <td>0.244240</td>\n",
       "      <td>-0.002018</td>\n",
       "      <td>0.002769</td>\n",
       "    </tr>\n",
       "    <tr>\n",
       "      <th>7</th>\n",
       "      <td>Travel &amp; Events</td>\n",
       "      <td>0.243562</td>\n",
       "      <td>-0.001695</td>\n",
       "      <td>0.002203</td>\n",
       "    </tr>\n",
       "    <tr>\n",
       "      <th>12</th>\n",
       "      <td>News &amp; Politics</td>\n",
       "      <td>0.824506</td>\n",
       "      <td>-0.000178</td>\n",
       "      <td>0.001645</td>\n",
       "    </tr>\n",
       "    <tr>\n",
       "      <th>8</th>\n",
       "      <td>Science &amp; Technology</td>\n",
       "      <td>0.765480</td>\n",
       "      <td>-0.000250</td>\n",
       "      <td>0.001001</td>\n",
       "    </tr>\n",
       "    <tr>\n",
       "      <th>1</th>\n",
       "      <td>Gaming</td>\n",
       "      <td>0.742314</td>\n",
       "      <td>-0.000142</td>\n",
       "      <td>0.001000</td>\n",
       "    </tr>\n",
       "    <tr>\n",
       "      <th>4</th>\n",
       "      <td>Comedy</td>\n",
       "      <td>0.798735</td>\n",
       "      <td>-0.000090</td>\n",
       "      <td>0.001000</td>\n",
       "    </tr>\n",
       "    <tr>\n",
       "      <th>10</th>\n",
       "      <td>Education</td>\n",
       "      <td>0.950150</td>\n",
       "      <td>-0.000075</td>\n",
       "      <td>0.000711</td>\n",
       "    </tr>\n",
       "    <tr>\n",
       "      <th>0</th>\n",
       "      <td>Entertainment</td>\n",
       "      <td>0.912982</td>\n",
       "      <td>-0.000054</td>\n",
       "      <td>0.000627</td>\n",
       "    </tr>\n",
       "    <tr>\n",
       "      <th>2</th>\n",
       "      <td>Music</td>\n",
       "      <td>1.129781</td>\n",
       "      <td>-0.000038</td>\n",
       "      <td>0.000613</td>\n",
       "    </tr>\n",
       "    <tr>\n",
       "      <th>6</th>\n",
       "      <td>Film &amp; Animation</td>\n",
       "      <td>0.898557</td>\n",
       "      <td>-0.000053</td>\n",
       "      <td>0.000609</td>\n",
       "    </tr>\n",
       "    <tr>\n",
       "      <th>3</th>\n",
       "      <td>People &amp; Blogs</td>\n",
       "      <td>0.968638</td>\n",
       "      <td>-0.000048</td>\n",
       "      <td>0.000590</td>\n",
       "    </tr>\n",
       "    <tr>\n",
       "      <th>11</th>\n",
       "      <td>Autos &amp; Vehicles</td>\n",
       "      <td>1.229596</td>\n",
       "      <td>-0.000044</td>\n",
       "      <td>0.000584</td>\n",
       "    </tr>\n",
       "  </tbody>\n",
       "</table>\n",
       "</div>"
      ],
      "text/plain": [
       "                    name     shape      floc     scale\n",
       "5         Pets & Animals  0.100425 -0.006356  0.007244\n",
       "13         Howto & Style  0.190506 -0.002315  0.002891\n",
       "9                 Sports  0.244240 -0.002018  0.002769\n",
       "7        Travel & Events  0.243562 -0.001695  0.002203\n",
       "12       News & Politics  0.824506 -0.000178  0.001645\n",
       "8   Science & Technology  0.765480 -0.000250  0.001001\n",
       "1                 Gaming  0.742314 -0.000142  0.001000\n",
       "4                 Comedy  0.798735 -0.000090  0.001000\n",
       "10             Education  0.950150 -0.000075  0.000711\n",
       "0          Entertainment  0.912982 -0.000054  0.000627\n",
       "2                  Music  1.129781 -0.000038  0.000613\n",
       "6       Film & Animation  0.898557 -0.000053  0.000609\n",
       "3         People & Blogs  0.968638 -0.000048  0.000590\n",
       "11      Autos & Vehicles  1.229596 -0.000044  0.000584"
      ]
     },
     "execution_count": 83,
     "metadata": {},
     "output_type": "execute_result"
    }
   ],
   "source": [
    "categories = hasComment.categoryId.unique()\n",
    "videoCategories = db[\"videoCategories\"]\n",
    "data = []\n",
    "for category in categories:\n",
    "    if not videoCategories.find_one({\"id\":str(category)}):\n",
    "        continue\n",
    "    name = videoCategories.find_one({\"id\":str(category)})[\"snippet\"][\"title\"]\n",
    "    params = lognorm.fit(hasComment[hasComment.categoryId==int(category)][\"commentperview\"])\n",
    "    data.append([name, *params])\n",
    "    # categoryfit.append([name, *params])\n",
    "    # print(f\"shape:{params[0]}, floc:{params[1]}, scale:{params[2]}\")\n",
    "categoryfit = pd.DataFrame(data=data, columns=[\"name\", \"shape\", \"floc\", \"scale\"])\n",
    "categoryfit.sort_values(\"scale\", ascending=False)"
   ]
  },
  {
   "cell_type": "code",
   "execution_count": 196,
   "metadata": {},
   "outputs": [
    {
     "name": "stdout",
     "output_type": "stream",
     "text": [
      "shape:1.5001740108373913, floc:990848.7384477272, scale:827460.4618994491\n"
     ]
    },
    {
     "data": {
      "image/png": "[encoded data removed]",
      "text/plain": [
       "<Figure size 432x288 with 1 Axes>"
      ]
     },
     "metadata": {
      "needs_background": "light"
     },
     "output_type": "display_data"
    }
   ],
   "source": [
    "sns.histplot(hasComment, x=hasComment.viewCount, log_scale=True)\n",
    "params = lognorm.fit(hasComment.viewCount)\n",
    "plt.legend(labels = ['fitting','viewCount'])\n",
    "print(f\"shape:{params[0]}, floc:{params[1]}, scale:{params[2]}\")\n",
    "# params =[ 1.00000048e+00, -5.46725517e+02,  2.99999990e+05]\n",
    "# sns.histplot([lognorm.rvs(*params) for _ in range(300000)], log_scale=True, color=\"r\", alpha=0, kde=True)"
   ]
  },
  {
   "cell_type": "code",
   "execution_count": 194,
   "metadata": {},
   "outputs": [
    {
     "name": "stdout",
     "output_type": "stream",
     "text": [
      "(array([ 1.00000048e+00, -5.46725517e+02,  2.99999990e+05]), array([[ 1.64235824e+31,  5.59830367e+38, -2.82247240e+37],\n",
      "       [ 5.59830367e+38,  1.93253106e+46, -9.64412198e+44],\n",
      "       [-2.82247240e+37, -9.64412198e+44,  4.85281261e+43]]))\n"
     ]
    }
   ],
   "source": [
    "from scipy import optimize\n",
    "\n",
    "y_data, x_data= np.histogram(hasComment.viewCount, bins=\"auto\")\n",
    "def piecewise_lognorm(x, shape, floc, scale):\n",
    "    return np.piecewise(x, [x < 10**6], [0 , lambda x:lognorm.pdf(x, shape, floc, scale)])\n",
    "\n",
    "counter = 0\n",
    "for i,x in enumerate(x_data):\n",
    "    shape, floc, scale = 1.5001740108373913, 990848.7384477272, 827460.4618994491\n",
    "    if counter >= 100:\n",
    "        break\n",
    "    counter += 1\n",
    "\n",
    "\n",
    "print(optimize.curve_fit(piecewise_lognorm, x_data[:-1], y_data, bounds=([1,-np.Inf,100000], [10,np.Inf, 300000])))"
   ]
  },
  {
   "cell_type": "code",
   "execution_count": 158,
   "metadata": {},
   "outputs": [
    {
     "data": {
      "text/plain": [
       "<AxesSubplot:ylabel='Count'>"
      ]
     },
     "execution_count": 158,
     "metadata": {},
     "output_type": "execute_result"
    },
    {
     "data": {
      "image/png": "[encoded data removed]",
      "text/plain": [
       "<Figure size 432x288 with 1 Axes>"
      ]
     },
     "metadata": {
      "needs_background": "light"
     },
     "output_type": "display_data"
    }
   ],
   "source": [
    "params = [5.01952186e+00, 6.22935049e-01, 1.00000516e+04]\n",
    "sns.histplot([lognorm.rvs(*params) for _ in range(100000)], log_scale=True)"
   ]
  },
  {
   "cell_type": "code",
   "execution_count": null,
   "metadata": {},
   "outputs": [],
   "source": [
    "import seaborn as sns\n",
    "\n",
    "# r이 -1.0과 -0.7 사이이면, 강한 음적 선형관계,\n",
    "# r이 -0.7과 -0.3 사이이면, 뚜렷한 음적 선형관계,\n",
    "# r이 -0.3과 -0.1 사이이면, 약한 음적 선형관계,\n",
    "# r이 -0.1과 +0.1 사이이면, 거의 무시될 수 있는 선형관계,\n",
    "# r이 +0.1과 +0.3 사이이면, 약한 양적 선형관계,\n",
    "# r이 +0.3과 +0.7 사이이면, 뚜렷한 양적 선형관계,\n",
    "# r이 +0.7과 +1.0 사이이면, 강한 양적 선형관계\n",
    "\n",
    "hasValues = df[df.commentCount.notnull() & df.commentCount != 0 & df.likeCount.notnull()][[\"viewCount\", \"commentCount\", \"likeCount\"]].copy()\n",
    "corr = hasValues.corr(method=\"pearson\")\n",
    "print(corr, sep=\"\\n\\n\")\n",
    "sns.pairplot(hasValues[[\"viewCount\", \"commentCount\", \"likeCount\"]])"
   ]
  },
  {
   "cell_type": "code",
   "execution_count": 198,
   "metadata": {},
   "outputs": [
    {
     "name": "stdout",
     "output_type": "stream",
     "text": [
      "12\n",
      "175430\n"
     ]
    }
   ],
   "source": [
    "print(len(df[df.liveBroadcastContent]))\n",
    "print(len(df[~df.liveBroadcastContent]))\n",
    "notLive = df[~df.liveBroadcastContent].copy()"
   ]
  },
  {
   "cell_type": "code",
   "execution_count": 256,
   "metadata": {},
   "outputs": [
    {
     "name": "stdout",
     "output_type": "stream",
     "text": [
      "76 12 54\n",
      "200 200\n",
      "3977.6458184973194 11.48751911695992 943.0617518471981\n",
      "[8.25695171e+02 9.20041737e+02 1.02323593e+03 1.13241144e+03\n",
      " 1.25004822e+03 1.39335847e+03 1.59647432e+03 1.90083759e+03\n",
      " 2.33144330e+03 2.86364967e+03 3.40308437e+03 3.81088637e+03\n",
      " 3.97764582e+03 3.89214605e+03 3.64008479e+03 3.33667316e+03\n",
      " 3.05909751e+03 2.82862618e+03 2.63640447e+03 2.47503233e+03\n",
      " 2.34957444e+03 2.27241139e+03 2.25662389e+03 2.30867316e+03\n",
      " 2.41966880e+03 2.57618203e+03 2.79131614e+03 3.08882644e+03\n",
      " 3.42092413e+03 3.64976907e+03 3.66398372e+03 3.47933263e+03\n",
      " 3.19570843e+03 2.89580387e+03 2.60620868e+03 2.32298066e+03\n",
      " 2.04680938e+03 1.79403120e+03 1.58211390e+03 1.41197113e+03\n",
      " 1.26917958e+03 1.13897543e+03 1.01530123e+03 8.99324356e+02\n",
      " 7.94982902e+02 7.04855859e+02 6.27062757e+02 5.56153541e+02\n",
      " 4.88260716e+02 4.25386428e+02 3.74032680e+02 3.39208905e+02\n",
      " 3.19930584e+02 3.11309538e+02 3.10723647e+02 3.18927943e+02\n",
      " 3.32218161e+02 3.36724762e+02 3.17656484e+02 2.74910045e+02\n",
      " 2.24120833e+02 1.82015667e+02 1.54649030e+02 1.38346247e+02\n",
      " 1.26920872e+02 1.17044428e+02 1.09326251e+02 1.05772956e+02\n",
      " 1.06170468e+02 1.07155336e+02 1.05007032e+02 9.89500934e+01\n",
      " 9.16865000e+01 8.68042566e+01 8.52349812e+01 8.42977343e+01\n",
      " 8.05995709e+01 7.30428399e+01 6.24570046e+01 5.00833004e+01\n",
      " 3.77023208e+01 2.77110487e+01 2.15716929e+01 1.86201354e+01\n",
      " 1.69876481e+01 1.53347249e+01 1.34971064e+01 1.21042923e+01\n",
      " 1.20213673e+01 1.36446302e+01 1.62505939e+01 1.84997393e+01\n",
      " 1.99580015e+01 2.12200460e+01 2.20865577e+01 2.11222965e+01\n",
      " 1.76487114e+01 1.27213310e+01 7.89575005e+00 4.14422982e+00\n",
      " 1.77976252e+00 6.16615248e-01 2.10108266e-01 1.64633979e-01\n",
      " 2.53206928e-01 3.54533391e-01 4.06635976e-01 4.12281357e-01\n",
      " 4.02239134e-01 3.74073437e-01 3.03309481e-01 1.98297301e-01\n",
      " 1.00372959e-01 3.86399081e-02 1.12184393e-02 2.44449822e-03\n",
      " 3.98387180e-04 4.84287151e-05 4.38168735e-06 2.94560607e-07\n",
      " 1.46933672e-08 5.43317294e-10 1.62213041e-11 5.91044220e-11\n",
      " 1.90406189e-09 4.55652079e-08 8.05856651e-07 1.05330306e-05\n",
      " 1.01746624e-04 7.26369805e-04 3.83236326e-03 1.49433052e-02\n",
      " 4.30623548e-02 9.17106974e-02 1.44348850e-01 1.67910468e-01]\n",
      "[False False False False False False False False False False False False\n",
      " False False False False False False False False False False False False\n",
      " False False False False False False False False False False False False\n",
      " False False False False False False False False False False False False\n",
      " False False False False False False False False False False False False\n",
      " False False False False False False False False False False False False\n",
      " False False False False False False False False False False False False\n",
      " False False False False False False False False False False False False\n",
      " False False False False False False False False False False False False\n",
      " False False False False False False False False False False False False\n",
      " False False False False False False False False False False False False\n",
      " False False False False False False False False False False False False\n",
      " False False False False False False False False False False False False\n",
      " False False False False False False False False False False False False\n",
      " False False False False False False False  True  True  True  True  True\n",
      "  True  True  True  True  True  True  True  True  True  True  True  True\n",
      "  True  True  True  True  True  True  True  True]\n"
     ]
    },
    {
     "data": {
      "image/png": "[encoded data removed]",
      "text/plain": [
       "<Figure size 432x288 with 1 Axes>"
      ]
     },
     "metadata": {
      "needs_background": "light"
     },
     "output_type": "display_data"
    }
   ],
   "source": [
    "ax = sns.histplot(notLive, x=notLive.duration, kde=True, log_scale=True)\n",
    "x = ax.lines[0].get_xdata() \n",
    "y = ax.lines[0].get_ydata()\n",
    "maxid1 = np.argmax(y)\n",
    "maxid2 = np.argmax(y[x>100])\n",
    "maxid3 = np.argmax(y[x<100]) \n",
    "print(maxid1, maxid2, maxid3)\n",
    "print(len(x), len(y))\n",
    "print(y[maxid1], y[maxid2], y[maxid3])\n",
    "print(y[x>100])\n",
    "print(x>100000)\n",
    "plt.plot(x[maxid1], y[maxid1], 'o', label=round(x[maxid1],2), ms=10)\n",
    "plt.plot(x[maxid2], y[maxid2], 'o', label=round(x[maxid2],2), ms=10)\n",
    "plt.plot(x[maxid3], y[maxid3], 'o', label=round(x[maxid3],2), ms=10)\n",
    "\n",
    "plt.legend(fontsize=15)\n",
    "plt.show()"
   ]
  },
  {
   "cell_type": "code",
   "execution_count": 200,
   "metadata": {},
   "outputs": [
    {
     "data": {
      "text/plain": [
       "<AxesSubplot:xlabel='publishedAt', ylabel='Count'>"
      ]
     },
     "execution_count": 200,
     "metadata": {},
     "output_type": "execute_result"
    },
    {
     "data": {
      "image/png": "[encoded data removed]",
      "text/plain": [
       "<Figure size 432x288 with 1 Axes>"
      ]
     },
     "metadata": {
      "needs_background": "light"
     },
     "output_type": "display_data"
    }
   ],
   "source": [
    "sns.histplot(df, x=df.publishedAt, kde=True)"
   ]
  },
  {
   "cell_type": "code",
   "execution_count": 201,
   "metadata": {},
   "outputs": [
    {
     "data": {
      "text/plain": [
       "<AxesSubplot:xlabel='publishedAt', ylabel='Count'>"
      ]
     },
     "execution_count": 201,
     "metadata": {},
     "output_type": "execute_result"
    },
    {
     "data": {
      "image/png": "[encoded data removed]",
      "text/plain": [
       "<Figure size 432x288 with 1 Axes>"
      ]
     },
     "metadata": {
      "needs_background": "light"
     },
     "output_type": "display_data"
    }
   ],
   "source": [
    "sns.histplot(df, x=df[df.publishedAt>=datetime.datetime(2022,1,1)].publishedAt, kde=True)"
   ]
  },
  {
   "cell_type": "code",
   "execution_count": 202,
   "metadata": {},
   "outputs": [
    {
     "data": {
      "text/plain": [
       "<AxesSubplot:xlabel='publishedAt', ylabel='Count'>"
      ]
     },
     "execution_count": 202,
     "metadata": {},
     "output_type": "execute_result"
    },
    {
     "data": {
      "image/png": "[encoded data removed]",
      "text/plain": [
       "<Figure size 432x288 with 1 Axes>"
      ]
     },
     "metadata": {
      "needs_background": "light"
     },
     "output_type": "display_data"
    }
   ],
   "source": [
    "def todaytime(data:datetime.datetime):\n",
    "    return data.hour*3600 + data.minute*60 + data.second\n",
    "\n",
    "\n",
    "primetime = df.publishedAt.copy().apply(lambda x:x.hour)\n",
    "sns.histplot(primetime, bins=24)"
   ]
  },
  {
   "cell_type": "code",
   "execution_count": 204,
   "metadata": {},
   "outputs": [
    {
     "name": "stdout",
     "output_type": "stream",
     "text": [
      "22228\n"
     ]
    }
   ],
   "source": [
    "print(len(df[df.tags.isnull()]))\n",
    "hasTag = df[df.tags.notnull()].copy()"
   ]
  },
  {
   "cell_type": "code",
   "execution_count": 211,
   "metadata": {},
   "outputs": [
    {
     "name": "stdout",
     "output_type": "stream",
     "text": [
      "[('먹방', 10083), ('장난감', 5535), ('kpop', 5483), ('애니메이션', 5379), ('yt:cc=on', 4625), ('mukbang', 4611), ('드라마', 4389), ('어린이', 4238), ('키즈', 4012), ('tvN', 3903), ('SBS', 3871), ('아이돌', 3770), ('MBC', 3708), ('예능', 3579), ('레전드', 3325), ('kids', 3213), ('유재석', 3157), ('asmr', 3131), ('ASMR', 3079), ('개그', 3042), ('Kpop', 3036), ('엠넷', 3030), ('꿀잼', 2898), ('코미디', 2835), ('KBS', 2805), ('유아', 2715), ('게임', 2700), ('웃긴영상', 2662), ('놀이', 2659), ('뽀로로', 2609), ('JTBC', 2609), ('Mnet', 2608), ('리얼사운드', 2597), ('음악', 2593), ('라이브', 2521), ('마인크래프트', 2497), ('교육', 2458), ('동요', 2353), ('toy', 2352), ('노래', 2342), ('한국', 2327), ('댄스', 2325), ('만화', 2284), ('toys', 2280), ('korea', 2244), ('디글', 2239), ('요리', 2157), ('영화', 2145), ('브이로그', 2131), ('방탄소년단', 2130), ('웃긴', 2118), ('마크', 2117), ('k-pop', 2109), ('케이팝', 2085), ('korean', 2080), ('가족', 2065), ('Diggle', 2049), ('KPOP', 1984), ('타요', 1955), ('뉴스', 1900), ('뮤비', 1898), ('몰카', 1895), ('animation', 1895), ('하하', 1875), ('토이', 1866), ('Korea', 1855), ('인기동요', 1819), ('시트콤', 1812), ('eating show', 1797), ('한류', 1786), ('music', 1771), ('MV', 1718), ('BTS', 1717), ('idol', 1712), ('다시보기', 1681), ('공감', 1652), ('일상', 1650), ('이수근', 1624), ('런닝맨', 1611), ('리뷰', 1594), ('흔한남매', 1578), ('강호동', 1566), ('Entertainment', 1566), ('korean mukbang', 1555), ('개그맨', 1550), ('유치원', 1545), ('무한도전', 1529), ('자동차', 1526), ('공룡', 1521), ('몰래카메라', 1520), ('vlog', 1520), ('음식', 1500), ('유아교육', 1494), ('Live', 1492), ('MUKBANG', 1489), ('어린이동요', 1488), ('funny', 1475), ('재미', 1471), ('병맛', 1471), ('Mukbang', 1466)]\n"
     ]
    },
    {
     "data": {
      "text/html": [
       "<div>\n",
       "<style scoped>\n",
       "    .dataframe tbody tr th:only-of-type {\n",
       "        vertical-align: middle;\n",
       "    }\n",
       "\n",
       "    .dataframe tbody tr th {\n",
       "        vertical-align: top;\n",
       "    }\n",
       "\n",
       "    .dataframe thead th {\n",
       "        text-align: right;\n",
       "    }\n",
       "</style>\n",
       "<table border=\"1\" class=\"dataframe\">\n",
       "  <thead>\n",
       "    <tr style=\"text-align: right;\">\n",
       "      <th></th>\n",
       "      <th>name</th>\n",
       "      <th>count</th>\n",
       "    </tr>\n",
       "  </thead>\n",
       "  <tbody>\n",
       "    <tr>\n",
       "      <th>65</th>\n",
       "      <td>먹방</td>\n",
       "      <td>10083</td>\n",
       "    </tr>\n",
       "    <tr>\n",
       "      <th>2</th>\n",
       "      <td>장난감</td>\n",
       "      <td>5535</td>\n",
       "    </tr>\n",
       "    <tr>\n",
       "      <th>117</th>\n",
       "      <td>kpop</td>\n",
       "      <td>5483</td>\n",
       "    </tr>\n",
       "    <tr>\n",
       "      <th>1240</th>\n",
       "      <td>애니메이션</td>\n",
       "      <td>5379</td>\n",
       "    </tr>\n",
       "    <tr>\n",
       "      <th>1302</th>\n",
       "      <td>yt:cc=on</td>\n",
       "      <td>4625</td>\n",
       "    </tr>\n",
       "    <tr>\n",
       "      <th>356</th>\n",
       "      <td>mukbang</td>\n",
       "      <td>4611</td>\n",
       "    </tr>\n",
       "    <tr>\n",
       "      <th>1315</th>\n",
       "      <td>드라마</td>\n",
       "      <td>4389</td>\n",
       "    </tr>\n",
       "    <tr>\n",
       "      <th>596</th>\n",
       "      <td>어린이</td>\n",
       "      <td>4238</td>\n",
       "    </tr>\n",
       "    <tr>\n",
       "      <th>1252</th>\n",
       "      <td>키즈</td>\n",
       "      <td>4012</td>\n",
       "    </tr>\n",
       "    <tr>\n",
       "      <th>1124</th>\n",
       "      <td>tvN</td>\n",
       "      <td>3903</td>\n",
       "    </tr>\n",
       "  </tbody>\n",
       "</table>\n",
       "</div>"
      ],
      "text/plain": [
       "          name  count\n",
       "65          먹방  10083\n",
       "2          장난감   5535\n",
       "117       kpop   5483\n",
       "1240     애니메이션   5379\n",
       "1302  yt:cc=on   4625\n",
       "356    mukbang   4611\n",
       "1315       드라마   4389\n",
       "596        어린이   4238\n",
       "1252        키즈   4012\n",
       "1124       tvN   3903"
      ]
     },
     "execution_count": 211,
     "metadata": {},
     "output_type": "execute_result"
    }
   ],
   "source": [
    "from collections import Counter\n",
    "total_tags = []\n",
    "for tags in hasTag.tags:\n",
    "    total_tags.extend(tags)\n",
    "total_tag_counter = Counter(total_tags)\n",
    "print(total_tag_counter.most_common(100))\n",
    "tag_df = pd.DataFrame(list(total_tag_counter.items()), columns=[\"name\", \"count\"])\n",
    "tag_df.sort_values(\"count\", ascending=False).head(10)\n",
    "# got IOPub data rate exceeded. error"
   ]
  },
  {
   "cell_type": "code",
   "execution_count": 10,
   "metadata": {},
   "outputs": [
    {
     "name": "stdout",
     "output_type": "stream",
     "text": [
      "[('Lifestyle_(sociology)', 52848), ('Entertainment', 50560), ('Music', 40987), ('Music_of_Asia', 34442), ('Film', 27348), ('Pop_music', 25597), ('Food', 21162), ('Television_program', 14929), ('Hobby', 11159), ('Video_game_culture', 10685), ('Society', 7900), ('Action-adventure_game', 6839), ('Role-playing_video_game', 5560), ('Hip_hop_music', 5479), ('Action_game', 5432), ('Sport', 3723), ('Pet', 3556), ('Strategy_video_game', 3272), ('Electronic_music', 2642), ('Performing_arts', 2474), ('Vehicle', 2062), ('Politics', 1721), ('Physical_fitness', 1549), ('Technology', 1499), ('Association_football', 1297), ('Health', 1200), ('Knowledge', 1047), ('Rhythm_and_blues', 830), ('Rock_music', 750), ('Fashion', 676), ('Humour', 597), ('Classical_music', 526), ('Soul_music', 519), ('Christian_music', 513), ('Baseball', 381), ('Independent_music', 353), ('Religion', 304), ('Golf', 290), ('Racing_video_game', 279), ('Tourism', 263), ('Puzzle_video_game', 249), ('Basketball', 240), ('Sports_game', 202), ('Music_of_Latin_America', 192), ('Casual_game', 186), ('Military', 183), ('Boxing', 162), ('Jazz', 128), ('Volleyball', 120), ('Physical_attractiveness', 115), ('Music_video_game', 106), ('Simulation_video_game', 100), ('Mixed_martial_arts', 97), ('Tennis', 46), ('Business', 36), ('Reggae', 28), ('Motorsport', 22), ('Country_music', 21), ('Professional_wrestling', 14), ('Ice_hockey', 3), ('American_football', 1), ('Cricket', 1)]\n"
     ]
    }
   ],
   "source": [
    "total_categories = []\n",
    "for categories in df.topicCategories:\n",
    "    total_categories.extend(categories)\n",
    "total_category_counter = Counter(total_categories)\n",
    "print(total_category_counter.most_common(100))"
   ]
  },
  {
   "cell_type": "code",
   "execution_count": 13,
   "metadata": {},
   "outputs": [
    {
     "name": "stdout",
     "output_type": "stream",
     "text": [
      "[(24, 61050), (22, 29593), (10, 21837), (1, 12790), (20, 10979), (23, 8612), (27, 6588), (26, 6517), (25, 5067), (17, 3923), (15, 3061), (19, 2693), (2, 1305), (28, 942), (29, 485)]\n"
     ]
    }
   ],
   "source": [
    "total2_categories = []\n",
    "for categories in df.categoryId:\n",
    "    total2_categories.append(categories)\n",
    "total2_category_counter = Counter(total2_categories)\n",
    "print(total2_category_counter.most_common(100))"
   ]
  },
  {
   "cell_type": "code",
   "execution_count": null,
   "metadata": {},
   "outputs": [],
   "source": []
  }
 ],
 "metadata": {
  "interpreter": {
   "hash": "9dd586d44c41fb0b1ab810dae0e26bf44d0aa250bc9715a40aa3f5363ec38a89"
  },
  "kernelspec": {
   "display_name": "Python 3 (ipykernel)",
   "language": "python",
   "name": "python3"
  },
  "language_info": {
   "codemirror_mode": {
    "name": "ipython",
    "version": 3
   },
   "file_extension": ".py",
   "mimetype": "text/x-python",
   "name": "python",
   "nbconvert_exporter": "python",
   "pygments_lexer": "ipython3",
   "version": "3.10.2"
  }
 },
 "nbformat": 4,
 "nbformat_minor": 2
}
